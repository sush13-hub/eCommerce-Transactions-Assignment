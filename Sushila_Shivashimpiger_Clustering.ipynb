{
 "cells": [
  {
   "cell_type": "markdown",
   "id": "c1ffd22a-08ac-4b84-85ac-ed8c46a24194",
   "metadata": {},
   "source": [
    "## Task 3: Customer Segmentation / Clustering\n",
    "\n",
    "Load the Data\n",
    "- The first step is to load the Customers.csv and Transactions.csv files."
   ]
  },
  {
   "cell_type": "code",
   "execution_count": 2,
   "id": "913cc756-8d86-4f4f-9ce4-d43fd0a2f59d",
   "metadata": {},
   "outputs": [
    {
     "data": {
      "text/plain": [
       "(  CustomerID        CustomerName         Region  SignupDate\n",
       " 0      C0001    Lawrence Carroll  South America  2022-07-10\n",
       " 1      C0002      Elizabeth Lutz           Asia  2022-02-13\n",
       " 2      C0003      Michael Rivera  South America  2024-03-07\n",
       " 3      C0004  Kathleen Rodriguez  South America  2022-10-09\n",
       " 4      C0005         Laura Weber           Asia  2022-08-15,\n",
       "   TransactionID CustomerID ProductID      TransactionDate  Quantity  \\\n",
       " 0        T00001      C0199      P067  2024-08-25 12:38:23         1   \n",
       " 1        T00112      C0146      P067  2024-05-27 22:23:54         1   \n",
       " 2        T00166      C0127      P067  2024-04-25 07:38:55         1   \n",
       " 3        T00272      C0087      P067  2024-03-26 22:55:37         2   \n",
       " 4        T00363      C0070      P067  2024-03-21 15:10:10         3   \n",
       " \n",
       "    TotalValue   Price  \n",
       " 0      300.68  300.68  \n",
       " 1      300.68  300.68  \n",
       " 2      300.68  300.68  \n",
       " 3      601.36  300.68  \n",
       " 4      902.04  300.68  )"
      ]
     },
     "execution_count": 2,
     "metadata": {},
     "output_type": "execute_result"
    }
   ],
   "source": [
    "import pandas as pd\n",
    "\n",
    "# Load the datasets\n",
    "customers_df = pd.read_csv(r\"C:\\Users\\Sushila S\\Zeotap_DataScience_Assignment\\Datasets\\Customers.csv\")\n",
    "transactions_df = pd.read_csv(r\"C:\\Users\\Sushila S\\Zeotap_DataScience_Assignment\\Datasets\\Transactions.csv\")\n",
    "\n",
    "# Display the first few rows to understand the structure of the data\n",
    "customers_df.head(), transactions_df.head()\n"
   ]
  },
  {
   "cell_type": "markdown",
   "id": "f0ae6652-11c5-4646-a81c-43e4f43f893b",
   "metadata": {},
   "source": [
    "##### Merge the Data\n",
    "\n",
    "You need to merge the Customers.csv and Transactions.csv on the CustomerID to combine customer profile and transaction data.\n"
   ]
  },
  {
   "cell_type": "code",
   "execution_count": 3,
   "id": "0940605f-5af1-43d5-9931-30cb229b958a",
   "metadata": {},
   "outputs": [
    {
     "data": {
      "text/html": [
       "<div>\n",
       "<style scoped>\n",
       "    .dataframe tbody tr th:only-of-type {\n",
       "        vertical-align: middle;\n",
       "    }\n",
       "\n",
       "    .dataframe tbody tr th {\n",
       "        vertical-align: top;\n",
       "    }\n",
       "\n",
       "    .dataframe thead th {\n",
       "        text-align: right;\n",
       "    }\n",
       "</style>\n",
       "<table border=\"1\" class=\"dataframe\">\n",
       "  <thead>\n",
       "    <tr style=\"text-align: right;\">\n",
       "      <th></th>\n",
       "      <th>TransactionID</th>\n",
       "      <th>CustomerID</th>\n",
       "      <th>ProductID</th>\n",
       "      <th>TransactionDate</th>\n",
       "      <th>Quantity</th>\n",
       "      <th>TotalValue</th>\n",
       "      <th>Price</th>\n",
       "      <th>CustomerName</th>\n",
       "      <th>Region</th>\n",
       "      <th>SignupDate</th>\n",
       "    </tr>\n",
       "  </thead>\n",
       "  <tbody>\n",
       "    <tr>\n",
       "      <th>0</th>\n",
       "      <td>T00001</td>\n",
       "      <td>C0199</td>\n",
       "      <td>P067</td>\n",
       "      <td>2024-08-25 12:38:23</td>\n",
       "      <td>1</td>\n",
       "      <td>300.68</td>\n",
       "      <td>300.68</td>\n",
       "      <td>Andrea Jenkins</td>\n",
       "      <td>Europe</td>\n",
       "      <td>2022-12-03</td>\n",
       "    </tr>\n",
       "    <tr>\n",
       "      <th>1</th>\n",
       "      <td>T00112</td>\n",
       "      <td>C0146</td>\n",
       "      <td>P067</td>\n",
       "      <td>2024-05-27 22:23:54</td>\n",
       "      <td>1</td>\n",
       "      <td>300.68</td>\n",
       "      <td>300.68</td>\n",
       "      <td>Brittany Harvey</td>\n",
       "      <td>Asia</td>\n",
       "      <td>2024-09-04</td>\n",
       "    </tr>\n",
       "    <tr>\n",
       "      <th>2</th>\n",
       "      <td>T00166</td>\n",
       "      <td>C0127</td>\n",
       "      <td>P067</td>\n",
       "      <td>2024-04-25 07:38:55</td>\n",
       "      <td>1</td>\n",
       "      <td>300.68</td>\n",
       "      <td>300.68</td>\n",
       "      <td>Kathryn Stevens</td>\n",
       "      <td>Europe</td>\n",
       "      <td>2024-04-04</td>\n",
       "    </tr>\n",
       "    <tr>\n",
       "      <th>3</th>\n",
       "      <td>T00272</td>\n",
       "      <td>C0087</td>\n",
       "      <td>P067</td>\n",
       "      <td>2024-03-26 22:55:37</td>\n",
       "      <td>2</td>\n",
       "      <td>601.36</td>\n",
       "      <td>300.68</td>\n",
       "      <td>Travis Campbell</td>\n",
       "      <td>South America</td>\n",
       "      <td>2024-04-11</td>\n",
       "    </tr>\n",
       "    <tr>\n",
       "      <th>4</th>\n",
       "      <td>T00363</td>\n",
       "      <td>C0070</td>\n",
       "      <td>P067</td>\n",
       "      <td>2024-03-21 15:10:10</td>\n",
       "      <td>3</td>\n",
       "      <td>902.04</td>\n",
       "      <td>300.68</td>\n",
       "      <td>Timothy Perez</td>\n",
       "      <td>Europe</td>\n",
       "      <td>2022-03-15</td>\n",
       "    </tr>\n",
       "  </tbody>\n",
       "</table>\n",
       "</div>"
      ],
      "text/plain": [
       "  TransactionID CustomerID ProductID      TransactionDate  Quantity  \\\n",
       "0        T00001      C0199      P067  2024-08-25 12:38:23         1   \n",
       "1        T00112      C0146      P067  2024-05-27 22:23:54         1   \n",
       "2        T00166      C0127      P067  2024-04-25 07:38:55         1   \n",
       "3        T00272      C0087      P067  2024-03-26 22:55:37         2   \n",
       "4        T00363      C0070      P067  2024-03-21 15:10:10         3   \n",
       "\n",
       "   TotalValue   Price     CustomerName         Region  SignupDate  \n",
       "0      300.68  300.68   Andrea Jenkins         Europe  2022-12-03  \n",
       "1      300.68  300.68  Brittany Harvey           Asia  2024-09-04  \n",
       "2      300.68  300.68  Kathryn Stevens         Europe  2024-04-04  \n",
       "3      601.36  300.68  Travis Campbell  South America  2024-04-11  \n",
       "4      902.04  300.68    Timothy Perez         Europe  2022-03-15  "
      ]
     },
     "execution_count": 3,
     "metadata": {},
     "output_type": "execute_result"
    }
   ],
   "source": [
    "# Merge the data on 'CustomerID'\n",
    "merged_df = pd.merge(transactions_df, customers_df, on='CustomerID', how='inner')\n",
    "\n",
    "# Display the first few rows of the merged dataframe\n",
    "merged_df.head()\n"
   ]
  },
  {
   "cell_type": "markdown",
   "id": "fa533b6f-9474-4a4d-9713-22909270563b",
   "metadata": {},
   "source": [
    "#####  Feature Engineering\n",
    "\n",
    "Now that the data is merged, create useful features for clustering. For each customer, you should calculate:\n",
    "\n",
    "- Total Spending: Total amount spent by each customer.\n",
    "- Number of Transactions: Total number of transactions made by each customer.\n",
    "- Average Transaction Value: The average amount spent per transaction.\n",
    "\n"
   ]
  },
  {
   "cell_type": "code",
   "execution_count": 4,
   "id": "5666b9e1-11c6-4c84-bf58-54515aa8d4f6",
   "metadata": {},
   "outputs": [],
   "source": [
    "# Calculate Total Spending\n",
    "customer_spending = merged_df.groupby('CustomerID')['TotalValue'].sum().reset_index()\n",
    "\n",
    "# Calculate Number of Transactions\n",
    "customer_transactions = merged_df.groupby('CustomerID')['TransactionID'].count().reset_index()\n",
    "\n",
    "# Calculate Average Transaction Value\n",
    "customer_avg_value = merged_df.groupby('CustomerID')['TotalValue'].mean().reset_index()\n",
    "\n",
    "# Merge the features into the customers dataframe\n",
    "customer_profile = pd.merge(customers_df, customer_spending, on='CustomerID')\n",
    "customer_profile = pd.merge(customer_profile, customer_transactions, on='CustomerID')\n",
    "customer_profile = pd.merge(customer_profile, customer_avg_value, on='CustomerID')\n",
    "\n",
    "# Rename columns for clarity\n",
    "customer_profile.columns = ['CustomerID', 'CustomerName', 'Region', 'SignupDate', 'TotalSpending', 'NumTransactions', 'AvgTransactionValue']\n"
   ]
  },
  {
   "cell_type": "markdown",
   "id": "f9be1268-4597-4f76-85a5-9c293d1347c5",
   "metadata": {},
   "source": [
    "##### One-Hot Encoding for Categorical Features\n",
    "\n",
    "The Region column is categorical and needs to be encoded for clustering. One way is to use One-Hot Encoding."
   ]
  },
  {
   "cell_type": "code",
   "execution_count": 5,
   "id": "35e2d690-e065-4a54-b45c-7b148ce040d4",
   "metadata": {},
   "outputs": [
    {
     "data": {
      "text/html": [
       "<div>\n",
       "<style scoped>\n",
       "    .dataframe tbody tr th:only-of-type {\n",
       "        vertical-align: middle;\n",
       "    }\n",
       "\n",
       "    .dataframe tbody tr th {\n",
       "        vertical-align: top;\n",
       "    }\n",
       "\n",
       "    .dataframe thead th {\n",
       "        text-align: right;\n",
       "    }\n",
       "</style>\n",
       "<table border=\"1\" class=\"dataframe\">\n",
       "  <thead>\n",
       "    <tr style=\"text-align: right;\">\n",
       "      <th></th>\n",
       "      <th>CustomerID</th>\n",
       "      <th>CustomerName</th>\n",
       "      <th>SignupDate</th>\n",
       "      <th>TotalSpending</th>\n",
       "      <th>NumTransactions</th>\n",
       "      <th>AvgTransactionValue</th>\n",
       "      <th>Region_Europe</th>\n",
       "      <th>Region_North America</th>\n",
       "      <th>Region_South America</th>\n",
       "    </tr>\n",
       "  </thead>\n",
       "  <tbody>\n",
       "    <tr>\n",
       "      <th>0</th>\n",
       "      <td>C0001</td>\n",
       "      <td>Lawrence Carroll</td>\n",
       "      <td>2022-07-10</td>\n",
       "      <td>3354.52</td>\n",
       "      <td>5</td>\n",
       "      <td>670.904</td>\n",
       "      <td>False</td>\n",
       "      <td>False</td>\n",
       "      <td>True</td>\n",
       "    </tr>\n",
       "    <tr>\n",
       "      <th>1</th>\n",
       "      <td>C0002</td>\n",
       "      <td>Elizabeth Lutz</td>\n",
       "      <td>2022-02-13</td>\n",
       "      <td>1862.74</td>\n",
       "      <td>4</td>\n",
       "      <td>465.685</td>\n",
       "      <td>False</td>\n",
       "      <td>False</td>\n",
       "      <td>False</td>\n",
       "    </tr>\n",
       "    <tr>\n",
       "      <th>2</th>\n",
       "      <td>C0003</td>\n",
       "      <td>Michael Rivera</td>\n",
       "      <td>2024-03-07</td>\n",
       "      <td>2725.38</td>\n",
       "      <td>4</td>\n",
       "      <td>681.345</td>\n",
       "      <td>False</td>\n",
       "      <td>False</td>\n",
       "      <td>True</td>\n",
       "    </tr>\n",
       "    <tr>\n",
       "      <th>3</th>\n",
       "      <td>C0004</td>\n",
       "      <td>Kathleen Rodriguez</td>\n",
       "      <td>2022-10-09</td>\n",
       "      <td>5354.88</td>\n",
       "      <td>8</td>\n",
       "      <td>669.360</td>\n",
       "      <td>False</td>\n",
       "      <td>False</td>\n",
       "      <td>True</td>\n",
       "    </tr>\n",
       "    <tr>\n",
       "      <th>4</th>\n",
       "      <td>C0005</td>\n",
       "      <td>Laura Weber</td>\n",
       "      <td>2022-08-15</td>\n",
       "      <td>2034.24</td>\n",
       "      <td>3</td>\n",
       "      <td>678.080</td>\n",
       "      <td>False</td>\n",
       "      <td>False</td>\n",
       "      <td>False</td>\n",
       "    </tr>\n",
       "  </tbody>\n",
       "</table>\n",
       "</div>"
      ],
      "text/plain": [
       "  CustomerID        CustomerName  SignupDate  TotalSpending  NumTransactions  \\\n",
       "0      C0001    Lawrence Carroll  2022-07-10        3354.52                5   \n",
       "1      C0002      Elizabeth Lutz  2022-02-13        1862.74                4   \n",
       "2      C0003      Michael Rivera  2024-03-07        2725.38                4   \n",
       "3      C0004  Kathleen Rodriguez  2022-10-09        5354.88                8   \n",
       "4      C0005         Laura Weber  2022-08-15        2034.24                3   \n",
       "\n",
       "   AvgTransactionValue  Region_Europe  Region_North America  \\\n",
       "0              670.904          False                 False   \n",
       "1              465.685          False                 False   \n",
       "2              681.345          False                 False   \n",
       "3              669.360          False                 False   \n",
       "4              678.080          False                 False   \n",
       "\n",
       "   Region_South America  \n",
       "0                  True  \n",
       "1                 False  \n",
       "2                  True  \n",
       "3                  True  \n",
       "4                 False  "
      ]
     },
     "execution_count": 5,
     "metadata": {},
     "output_type": "execute_result"
    }
   ],
   "source": [
    "# Apply One-Hot Encoding to the 'Region' column\n",
    "customer_profile = pd.get_dummies(customer_profile, columns=['Region'], drop_first=True)\n",
    "\n",
    "# Display the updated dataframe\n",
    "customer_profile.head()\n"
   ]
  },
  {
   "cell_type": "markdown",
   "id": "1e014400-814c-4a87-aae3-cfcbf22c49cb",
   "metadata": {},
   "source": [
    "##### Feature Scaling\n",
    "\n",
    "Clustering algorithms like K-Means are sensitive to the scale of the features. We need to standardize the numerical features (like TotalSpending, NumTransactions, AvgTransactionValue) so that they are on the same scale."
   ]
  },
  {
   "cell_type": "code",
   "execution_count": 6,
   "id": "3f1fa10d-4b1c-48d8-919f-dfdcff89dec0",
   "metadata": {},
   "outputs": [
    {
     "data": {
      "text/html": [
       "<div>\n",
       "<style scoped>\n",
       "    .dataframe tbody tr th:only-of-type {\n",
       "        vertical-align: middle;\n",
       "    }\n",
       "\n",
       "    .dataframe tbody tr th {\n",
       "        vertical-align: top;\n",
       "    }\n",
       "\n",
       "    .dataframe thead th {\n",
       "        text-align: right;\n",
       "    }\n",
       "</style>\n",
       "<table border=\"1\" class=\"dataframe\">\n",
       "  <thead>\n",
       "    <tr style=\"text-align: right;\">\n",
       "      <th></th>\n",
       "      <th>CustomerID</th>\n",
       "      <th>CustomerName</th>\n",
       "      <th>SignupDate</th>\n",
       "      <th>TotalSpending</th>\n",
       "      <th>NumTransactions</th>\n",
       "      <th>AvgTransactionValue</th>\n",
       "      <th>Region_Europe</th>\n",
       "      <th>Region_North America</th>\n",
       "      <th>Region_South America</th>\n",
       "    </tr>\n",
       "  </thead>\n",
       "  <tbody>\n",
       "    <tr>\n",
       "      <th>0</th>\n",
       "      <td>C0001</td>\n",
       "      <td>Lawrence Carroll</td>\n",
       "      <td>2022-07-10</td>\n",
       "      <td>-0.061701</td>\n",
       "      <td>-0.011458</td>\n",
       "      <td>-0.070263</td>\n",
       "      <td>False</td>\n",
       "      <td>False</td>\n",
       "      <td>True</td>\n",
       "    </tr>\n",
       "    <tr>\n",
       "      <th>1</th>\n",
       "      <td>C0002</td>\n",
       "      <td>Elizabeth Lutz</td>\n",
       "      <td>2022-02-13</td>\n",
       "      <td>-0.877744</td>\n",
       "      <td>-0.467494</td>\n",
       "      <td>-0.934933</td>\n",
       "      <td>False</td>\n",
       "      <td>False</td>\n",
       "      <td>False</td>\n",
       "    </tr>\n",
       "    <tr>\n",
       "      <th>2</th>\n",
       "      <td>C0003</td>\n",
       "      <td>Michael Rivera</td>\n",
       "      <td>2024-03-07</td>\n",
       "      <td>-0.405857</td>\n",
       "      <td>-0.467494</td>\n",
       "      <td>-0.026271</td>\n",
       "      <td>False</td>\n",
       "      <td>False</td>\n",
       "      <td>True</td>\n",
       "    </tr>\n",
       "    <tr>\n",
       "      <th>3</th>\n",
       "      <td>C0004</td>\n",
       "      <td>Kathleen Rodriguez</td>\n",
       "      <td>2022-10-09</td>\n",
       "      <td>1.032547</td>\n",
       "      <td>1.356650</td>\n",
       "      <td>-0.076769</td>\n",
       "      <td>False</td>\n",
       "      <td>False</td>\n",
       "      <td>True</td>\n",
       "    </tr>\n",
       "    <tr>\n",
       "      <th>4</th>\n",
       "      <td>C0005</td>\n",
       "      <td>Laura Weber</td>\n",
       "      <td>2022-08-15</td>\n",
       "      <td>-0.783929</td>\n",
       "      <td>-0.923530</td>\n",
       "      <td>-0.040028</td>\n",
       "      <td>False</td>\n",
       "      <td>False</td>\n",
       "      <td>False</td>\n",
       "    </tr>\n",
       "  </tbody>\n",
       "</table>\n",
       "</div>"
      ],
      "text/plain": [
       "  CustomerID        CustomerName  SignupDate  TotalSpending  NumTransactions  \\\n",
       "0      C0001    Lawrence Carroll  2022-07-10      -0.061701        -0.011458   \n",
       "1      C0002      Elizabeth Lutz  2022-02-13      -0.877744        -0.467494   \n",
       "2      C0003      Michael Rivera  2024-03-07      -0.405857        -0.467494   \n",
       "3      C0004  Kathleen Rodriguez  2022-10-09       1.032547         1.356650   \n",
       "4      C0005         Laura Weber  2022-08-15      -0.783929        -0.923530   \n",
       "\n",
       "   AvgTransactionValue  Region_Europe  Region_North America  \\\n",
       "0            -0.070263          False                 False   \n",
       "1            -0.934933          False                 False   \n",
       "2            -0.026271          False                 False   \n",
       "3            -0.076769          False                 False   \n",
       "4            -0.040028          False                 False   \n",
       "\n",
       "   Region_South America  \n",
       "0                  True  \n",
       "1                 False  \n",
       "2                  True  \n",
       "3                  True  \n",
       "4                 False  "
      ]
     },
     "execution_count": 6,
     "metadata": {},
     "output_type": "execute_result"
    }
   ],
   "source": [
    "from sklearn.preprocessing import StandardScaler\n",
    "\n",
    "# Define the numerical features for scaling\n",
    "features_to_scale = ['TotalSpending', 'NumTransactions', 'AvgTransactionValue']\n",
    "\n",
    "# Apply StandardScaler to scale the features\n",
    "scaler = StandardScaler()\n",
    "customer_profile[features_to_scale] = scaler.fit_transform(customer_profile[features_to_scale])\n",
    "\n",
    "# Display the scaled features\n",
    "customer_profile.head()\n"
   ]
  },
  {
   "cell_type": "markdown",
   "id": "9a0b6d54-104a-43f8-97a8-a6d42218c784",
   "metadata": {},
   "source": [
    "#### Clustering Algorithm (K-Means)\n",
    "We’ll use K-Means clustering to segment customers into groups. To start, let’s choose an initial number of clusters (e.g., 3 clusters)."
   ]
  },
  {
   "cell_type": "code",
   "execution_count": 7,
   "id": "1374b67c-c970-4d19-83e2-606a5b53e1a4",
   "metadata": {},
   "outputs": [
    {
     "name": "stderr",
     "output_type": "stream",
     "text": [
      "C:\\Users\\Sushila S\\anaconda3\\Lib\\site-packages\\sklearn\\cluster\\_kmeans.py:1429: UserWarning: KMeans is known to have a memory leak on Windows with MKL, when there are less chunks than available threads. You can avoid it by setting the environment variable OMP_NUM_THREADS=1.\n",
      "  warnings.warn(\n"
     ]
    },
    {
     "data": {
      "text/html": [
       "<div>\n",
       "<style scoped>\n",
       "    .dataframe tbody tr th:only-of-type {\n",
       "        vertical-align: middle;\n",
       "    }\n",
       "\n",
       "    .dataframe tbody tr th {\n",
       "        vertical-align: top;\n",
       "    }\n",
       "\n",
       "    .dataframe thead th {\n",
       "        text-align: right;\n",
       "    }\n",
       "</style>\n",
       "<table border=\"1\" class=\"dataframe\">\n",
       "  <thead>\n",
       "    <tr style=\"text-align: right;\">\n",
       "      <th></th>\n",
       "      <th>CustomerID</th>\n",
       "      <th>Cluster</th>\n",
       "    </tr>\n",
       "  </thead>\n",
       "  <tbody>\n",
       "    <tr>\n",
       "      <th>0</th>\n",
       "      <td>C0001</td>\n",
       "      <td>1</td>\n",
       "    </tr>\n",
       "    <tr>\n",
       "      <th>1</th>\n",
       "      <td>C0002</td>\n",
       "      <td>1</td>\n",
       "    </tr>\n",
       "    <tr>\n",
       "      <th>2</th>\n",
       "      <td>C0003</td>\n",
       "      <td>1</td>\n",
       "    </tr>\n",
       "    <tr>\n",
       "      <th>3</th>\n",
       "      <td>C0004</td>\n",
       "      <td>0</td>\n",
       "    </tr>\n",
       "    <tr>\n",
       "      <th>4</th>\n",
       "      <td>C0005</td>\n",
       "      <td>1</td>\n",
       "    </tr>\n",
       "  </tbody>\n",
       "</table>\n",
       "</div>"
      ],
      "text/plain": [
       "  CustomerID  Cluster\n",
       "0      C0001        1\n",
       "1      C0002        1\n",
       "2      C0003        1\n",
       "3      C0004        0\n",
       "4      C0005        1"
      ]
     },
     "execution_count": 7,
     "metadata": {},
     "output_type": "execute_result"
    }
   ],
   "source": [
    "from sklearn.cluster import KMeans\n",
    "\n",
    "# Choose number of clusters (start with 3)\n",
    "kmeans = KMeans(n_clusters=3, random_state=42)\n",
    "\n",
    "# Fit the model and predict clusters\n",
    "customer_profile['Cluster'] = kmeans.fit_predict(customer_profile[features_to_scale])\n",
    "\n",
    "# Check the clusters formed\n",
    "customer_profile[['CustomerID', 'Cluster']].head()\n"
   ]
  },
  {
   "cell_type": "markdown",
   "id": "85f0b5a0-31aa-4c62-8431-35c9dd19afae",
   "metadata": {},
   "source": [
    "### Determine Optimal Number of Clusters\n",
    "We’ll use the Elbow Method and Silhouette Score to determine the best number of clusters.\n",
    "\n",
    "- Elbow Method\n",
    "The Elbow Method helps us decide the number of clusters by plotting the inertia (sum of squared distances of samples to their nearest cluster center). The “elbow” point is where inertia begins to decrease more slowly."
   ]
  },
  {
   "cell_type": "code",
   "execution_count": 8,
   "id": "4ba9a9df-ef49-427e-8e43-57ad9cfd70f3",
   "metadata": {},
   "outputs": [
    {
     "name": "stderr",
     "output_type": "stream",
     "text": [
      "C:\\Users\\Sushila S\\anaconda3\\Lib\\site-packages\\sklearn\\cluster\\_kmeans.py:1429: UserWarning: KMeans is known to have a memory leak on Windows with MKL, when there are less chunks than available threads. You can avoid it by setting the environment variable OMP_NUM_THREADS=1.\n",
      "  warnings.warn(\n",
      "C:\\Users\\Sushila S\\anaconda3\\Lib\\site-packages\\sklearn\\cluster\\_kmeans.py:1429: UserWarning: KMeans is known to have a memory leak on Windows with MKL, when there are less chunks than available threads. You can avoid it by setting the environment variable OMP_NUM_THREADS=1.\n",
      "  warnings.warn(\n",
      "C:\\Users\\Sushila S\\anaconda3\\Lib\\site-packages\\sklearn\\cluster\\_kmeans.py:1429: UserWarning: KMeans is known to have a memory leak on Windows with MKL, when there are less chunks than available threads. You can avoid it by setting the environment variable OMP_NUM_THREADS=1.\n",
      "  warnings.warn(\n",
      "C:\\Users\\Sushila S\\anaconda3\\Lib\\site-packages\\sklearn\\cluster\\_kmeans.py:1429: UserWarning: KMeans is known to have a memory leak on Windows with MKL, when there are less chunks than available threads. You can avoid it by setting the environment variable OMP_NUM_THREADS=1.\n",
      "  warnings.warn(\n",
      "C:\\Users\\Sushila S\\anaconda3\\Lib\\site-packages\\sklearn\\cluster\\_kmeans.py:1429: UserWarning: KMeans is known to have a memory leak on Windows with MKL, when there are less chunks than available threads. You can avoid it by setting the environment variable OMP_NUM_THREADS=1.\n",
      "  warnings.warn(\n",
      "C:\\Users\\Sushila S\\anaconda3\\Lib\\site-packages\\sklearn\\cluster\\_kmeans.py:1429: UserWarning: KMeans is known to have a memory leak on Windows with MKL, when there are less chunks than available threads. You can avoid it by setting the environment variable OMP_NUM_THREADS=1.\n",
      "  warnings.warn(\n",
      "C:\\Users\\Sushila S\\anaconda3\\Lib\\site-packages\\sklearn\\cluster\\_kmeans.py:1429: UserWarning: KMeans is known to have a memory leak on Windows with MKL, when there are less chunks than available threads. You can avoid it by setting the environment variable OMP_NUM_THREADS=1.\n",
      "  warnings.warn(\n",
      "C:\\Users\\Sushila S\\anaconda3\\Lib\\site-packages\\sklearn\\cluster\\_kmeans.py:1429: UserWarning: KMeans is known to have a memory leak on Windows with MKL, when there are less chunks than available threads. You can avoid it by setting the environment variable OMP_NUM_THREADS=1.\n",
      "  warnings.warn(\n",
      "C:\\Users\\Sushila S\\anaconda3\\Lib\\site-packages\\sklearn\\cluster\\_kmeans.py:1429: UserWarning: KMeans is known to have a memory leak on Windows with MKL, when there are less chunks than available threads. You can avoid it by setting the environment variable OMP_NUM_THREADS=1.\n",
      "  warnings.warn(\n"
     ]
    },
    {
     "data": {
      "image/png": "[encoded data removed]",
      "text/plain": [
       "<Figure size 640x480 with 1 Axes>"
      ]
     },
     "metadata": {},
     "output_type": "display_data"
    }
   ],
   "source": [
    "import matplotlib.pyplot as plt\n",
    "\n",
    "# Calculate inertia for different cluster numbers\n",
    "inertia = []\n",
    "k_range = range(2, 11)\n",
    "\n",
    "for k in k_range:\n",
    "    kmeans = KMeans(n_clusters=k, random_state=42)\n",
    "    kmeans.fit(customer_profile[features_to_scale])\n",
    "    inertia.append(kmeans.inertia_)\n",
    "\n",
    "# Plot the Elbow Curve\n",
    "plt.plot(k_range, inertia, marker='o')\n",
    "plt.xlabel('Number of Clusters')\n",
    "plt.ylabel('Inertia')\n",
    "plt.title('Elbow Method')\n",
    "plt.show()\n"
   ]
  },
  {
   "cell_type": "markdown",
   "id": "9eaa8fe9-dd15-4f6d-96c8-017da633fdb4",
   "metadata": {},
   "source": [
    "Look for the \"elbow\" point in the plot. This is typically where the inertia decreases slowly, and it indicates a good number of clusters."
   ]
  },
  {
   "cell_type": "markdown",
   "id": "3f2429cb-f656-44d9-bded-b8ceab3cc840",
   "metadata": {},
   "source": [
    "#### Silhouette Score"
   ]
  },
  {
   "cell_type": "markdown",
   "id": "6fa6334b-0c38-4467-9c72-4ed002f7f04e",
   "metadata": {},
   "source": [
    "You can also use the Silhouette Score to evaluate the quality of the clusters. A higher Silhouette Score indicates that the clusters are well-separated."
   ]
  },
  {
   "cell_type": "code",
   "execution_count": 10,
   "id": "9416a09f-bc2e-4fd3-936e-2b963636e675",
   "metadata": {},
   "outputs": [
    {
     "name": "stderr",
     "output_type": "stream",
     "text": [
      "C:\\Users\\Sushila S\\anaconda3\\Lib\\site-packages\\sklearn\\cluster\\_kmeans.py:1429: UserWarning: KMeans is known to have a memory leak on Windows with MKL, when there are less chunks than available threads. You can avoid it by setting the environment variable OMP_NUM_THREADS=1.\n",
      "  warnings.warn(\n",
      "C:\\Users\\Sushila S\\anaconda3\\Lib\\site-packages\\sklearn\\cluster\\_kmeans.py:1429: UserWarning: KMeans is known to have a memory leak on Windows with MKL, when there are less chunks than available threads. You can avoid it by setting the environment variable OMP_NUM_THREADS=1.\n",
      "  warnings.warn(\n",
      "C:\\Users\\Sushila S\\anaconda3\\Lib\\site-packages\\sklearn\\cluster\\_kmeans.py:1429: UserWarning: KMeans is known to have a memory leak on Windows with MKL, when there are less chunks than available threads. You can avoid it by setting the environment variable OMP_NUM_THREADS=1.\n",
      "  warnings.warn(\n",
      "C:\\Users\\Sushila S\\anaconda3\\Lib\\site-packages\\sklearn\\cluster\\_kmeans.py:1429: UserWarning: KMeans is known to have a memory leak on Windows with MKL, when there are less chunks than available threads. You can avoid it by setting the environment variable OMP_NUM_THREADS=1.\n",
      "  warnings.warn(\n",
      "C:\\Users\\Sushila S\\anaconda3\\Lib\\site-packages\\sklearn\\cluster\\_kmeans.py:1429: UserWarning: KMeans is known to have a memory leak on Windows with MKL, when there are less chunks than available threads. You can avoid it by setting the environment variable OMP_NUM_THREADS=1.\n",
      "  warnings.warn(\n",
      "C:\\Users\\Sushila S\\anaconda3\\Lib\\site-packages\\sklearn\\cluster\\_kmeans.py:1429: UserWarning: KMeans is known to have a memory leak on Windows with MKL, when there are less chunks than available threads. You can avoid it by setting the environment variable OMP_NUM_THREADS=1.\n",
      "  warnings.warn(\n",
      "C:\\Users\\Sushila S\\anaconda3\\Lib\\site-packages\\sklearn\\cluster\\_kmeans.py:1429: UserWarning: KMeans is known to have a memory leak on Windows with MKL, when there are less chunks than available threads. You can avoid it by setting the environment variable OMP_NUM_THREADS=1.\n",
      "  warnings.warn(\n",
      "C:\\Users\\Sushila S\\anaconda3\\Lib\\site-packages\\sklearn\\cluster\\_kmeans.py:1429: UserWarning: KMeans is known to have a memory leak on Windows with MKL, when there are less chunks than available threads. You can avoid it by setting the environment variable OMP_NUM_THREADS=1.\n",
      "  warnings.warn(\n",
      "C:\\Users\\Sushila S\\anaconda3\\Lib\\site-packages\\sklearn\\cluster\\_kmeans.py:1429: UserWarning: KMeans is known to have a memory leak on Windows with MKL, when there are less chunks than available threads. You can avoid it by setting the environment variable OMP_NUM_THREADS=1.\n",
      "  warnings.warn(\n"
     ]
    },
    {
     "data": {
      "image/png": "[encoded data removed]",
      "text/plain": [
       "<Figure size 640x480 with 1 Axes>"
      ]
     },
     "metadata": {},
     "output_type": "display_data"
    }
   ],
   "source": [
    "from sklearn.metrics import silhouette_score\n",
    "\n",
    "sil_scores = []\n",
    "for k in k_range:\n",
    "    kmeans = KMeans(n_clusters=k, random_state=42)\n",
    "    kmeans.fit(customer_profile[features_to_scale])\n",
    "    sil_scores.append(silhouette_score(customer_profile[features_to_scale], kmeans.labels_))\n",
    "\n",
    "# Plot the Silhouette Scores\n",
    "plt.plot(k_range, sil_scores, marker='o')\n",
    "plt.xlabel('Number of Clusters')\n",
    "plt.ylabel('Silhouette Score')\n",
    "plt.title('Silhouette Score vs. Number of Clusters')\n",
    "plt.show()\n"
   ]
  },
  {
   "cell_type": "markdown",
   "id": "8d7cc014-b18c-4169-86b5-68c8f41e3f73",
   "metadata": {},
   "source": [
    "#### Final Clustering"
   ]
  },
  {
   "cell_type": "markdown",
   "id": "3c5c2dee-e2cc-4230-8c86-af728796d4a5",
   "metadata": {},
   "source": [
    "Once you’ve decided on the optimal number of clusters, perform the final clustering and assign the cluster labels."
   ]
  },
  {
   "cell_type": "code",
   "execution_count": 11,
   "id": "eebc2e03-e185-405e-93e0-7a74427d535d",
   "metadata": {},
   "outputs": [
    {
     "name": "stderr",
     "output_type": "stream",
     "text": [
      "C:\\Users\\Sushila S\\anaconda3\\Lib\\site-packages\\sklearn\\cluster\\_kmeans.py:1429: UserWarning: KMeans is known to have a memory leak on Windows with MKL, when there are less chunks than available threads. You can avoid it by setting the environment variable OMP_NUM_THREADS=1.\n",
      "  warnings.warn(\n"
     ]
    },
    {
     "data": {
      "text/html": [
       "<div>\n",
       "<style scoped>\n",
       "    .dataframe tbody tr th:only-of-type {\n",
       "        vertical-align: middle;\n",
       "    }\n",
       "\n",
       "    .dataframe tbody tr th {\n",
       "        vertical-align: top;\n",
       "    }\n",
       "\n",
       "    .dataframe thead th {\n",
       "        text-align: right;\n",
       "    }\n",
       "</style>\n",
       "<table border=\"1\" class=\"dataframe\">\n",
       "  <thead>\n",
       "    <tr style=\"text-align: right;\">\n",
       "      <th></th>\n",
       "      <th>CustomerID</th>\n",
       "      <th>Cluster</th>\n",
       "    </tr>\n",
       "  </thead>\n",
       "  <tbody>\n",
       "    <tr>\n",
       "      <th>0</th>\n",
       "      <td>C0001</td>\n",
       "      <td>3</td>\n",
       "    </tr>\n",
       "    <tr>\n",
       "      <th>1</th>\n",
       "      <td>C0002</td>\n",
       "      <td>1</td>\n",
       "    </tr>\n",
       "    <tr>\n",
       "      <th>2</th>\n",
       "      <td>C0003</td>\n",
       "      <td>3</td>\n",
       "    </tr>\n",
       "    <tr>\n",
       "      <th>3</th>\n",
       "      <td>C0004</td>\n",
       "      <td>0</td>\n",
       "    </tr>\n",
       "    <tr>\n",
       "      <th>4</th>\n",
       "      <td>C0005</td>\n",
       "      <td>3</td>\n",
       "    </tr>\n",
       "  </tbody>\n",
       "</table>\n",
       "</div>"
      ],
      "text/plain": [
       "  CustomerID  Cluster\n",
       "0      C0001        3\n",
       "1      C0002        1\n",
       "2      C0003        3\n",
       "3      C0004        0\n",
       "4      C0005        3"
      ]
     },
     "execution_count": 11,
     "metadata": {},
     "output_type": "execute_result"
    }
   ],
   "source": [
    "# Assume the optimal number of clusters is 4 (based on the previous steps)\n",
    "optimal_k = 4\n",
    "kmeans = KMeans(n_clusters=optimal_k, random_state=42)\n",
    "\n",
    "# Fit the KMeans model and predict the clusters\n",
    "customer_profile['Cluster'] = kmeans.fit_predict(customer_profile[features_to_scale])\n",
    "\n",
    "# Check the final clusters\n",
    "customer_profile[['CustomerID', 'Cluster']].head()\n"
   ]
  },
  {
   "cell_type": "markdown",
   "id": "b6146447-2f38-4419-acaa-eda8ee9388cc",
   "metadata": {},
   "source": [
    "### Clustering Evaluation Metrics\n",
    "\n",
    "## DB Index\n",
    "  \n",
    "The Davies-Bouldin Index (DB Index) measures the average similarity ratio of each cluster with the other clusters. A lower value indicates better clustering."
   ]
  },
  {
   "cell_type": "code",
   "execution_count": 15,
   "id": "d389c08e-24cc-47e4-86cf-1677c09f05f9",
   "metadata": {},
   "outputs": [
    {
     "name": "stdout",
     "output_type": "stream",
     "text": [
      "Davies-Bouldin Index: 1.0604240399923035\n"
     ]
    }
   ],
   "source": [
    "from sklearn.metrics import davies_bouldin_score\n",
    "\n",
    "db_index = davies_bouldin_score(customer_profile[features_to_scale], customer_profile['Cluster'])\n",
    "print(\"Davies-Bouldin Index:\", db_index)\n"
   ]
  },
  {
   "cell_type": "markdown",
   "id": "83a8dc25-96c7-4595-8833-48fda72fa53a",
   "metadata": {},
   "source": [
    "- Silhouette Score"
   ]
  },
  {
   "cell_type": "code",
   "execution_count": 16,
   "id": "acb37f0b-0f55-434d-b854-28c41a878170",
   "metadata": {},
   "outputs": [
    {
     "name": "stdout",
     "output_type": "stream",
     "text": [
      "Silhouette Score: 0.3135106549790539\n"
     ]
    }
   ],
   "source": [
    "sil_score = silhouette_score(customer_profile[features_to_scale], customer_profile['Cluster'])\n",
    "print(\"Silhouette Score:\", sil_score)\n"
   ]
  },
  {
   "cell_type": "markdown",
   "id": "6064c326-92cb-4dfe-b45f-8ebc9e0a3d52",
   "metadata": {},
   "source": [
    "#### Visualizing the Clusters\n",
    "Use PCA (Principal Component Analysis) to reduce the dimensionality of the data and visualize the clusters in 2D or 3D."
   ]
  },
  {
   "cell_type": "code",
   "execution_count": 17,
   "id": "4e0c556e-4e31-4b31-980c-9fe1e67c11cb",
   "metadata": {},
   "outputs": [
    {
     "data": {
      "image/png": "[encoded data removed]",
      "text/plain": [
       "<Figure size 1000x600 with 1 Axes>"
      ]
     },
     "metadata": {},
     "output_type": "display_data"
    }
   ],
   "source": [
    "from sklearn.decomposition import PCA\n",
    "import seaborn as sns\n",
    "\n",
    "# Reduce dimensions to 2D using PCA\n",
    "pca = PCA(n_components=2)\n",
    "principal_components = pca.fit_transform(customer_profile[features_to_scale])\n",
    "\n",
    "# Add the PCA components to the dataframe\n",
    "customer_profile['PCA1'] = principal_components[:, 0]\n",
    "customer_profile['PCA2'] = principal_components[:, 1]\n",
    "\n",
    "# Plot the clusters\n",
    "plt.figure(figsize=(10, 6))\n",
    "sns.scatterplot(x='PCA1', y='PCA2', hue='Cluster', data=customer_profile, palette='Set1', s=100, alpha=0.7)\n",
    "plt.title('Customer Segments')\n",
    "plt.show()\n"
   ]
  },
  {
   "cell_type": "code",
   "execution_count": 18,
   "id": "1b2b7640-b61e-4b48-aa9c-925f32508397",
   "metadata": {},
   "outputs": [
    {
     "name": "stdout",
     "output_type": "stream",
     "text": [
      "207.69720083494042\n"
     ]
    }
   ],
   "source": [
    "# Assuming kmeans is your KMeans model\n",
    "inertia_value = kmeans.inertia_\n",
    "print(inertia_value)\n"
   ]
  },
  {
   "cell_type": "markdown",
   "id": "1a76c8d5-a7c4-4cab-84eb-f97023bbf1bc",
   "metadata": {},
   "source": [
    "\n",
    "\n",
    "## Report on Clustering Results:\n",
    "##### Number of Clusters Formed:\n",
    "The number of clusters formed is 3. This was determined using the elbow method/silhouette score to select the optimal number of clusters.\n",
    "DB Index Value:\n",
    "The Davies-Bouldin Index (DB Index) for the clustering results is 1.0604. A lower DB index value indicates better clustering quality, with the ideal value being as low as possible.\n",
    "##### Other Relevant Clustering Metrics:\n",
    "- Silhouette Score: The silhouette score for the clustering is 0.3135. This score measures how well-separated the clusters are, with values closer to +1 indicating good clustering.\n",
    "- Inertia (KMeans): The inertia for the KMeans algorithm is 207.6972, which indicates the sum of squared distances of samples to their closest cluster center. Lower inertia values indicate more coherent clusters.\n"
   ]
  },
  {
   "cell_type": "markdown",
   "id": "80179cfd-7bc5-497d-8b1e-fc0c3d6e1d0b",
   "metadata": {},
   "source": [
    "#### Jupyter Notebook:\n",
    "- The notebook contains all the code for the following:\n",
    "- Data Preprocessing: Merging, feature engineering, and any transformations applied.\n",
    "- Clustering: The chosen clustering algorithm (e.g., KMeans) applied on the data.\n",
    "- Evaluation: The DB Index, Silhouette Score, and Inertia calculated to assess clustering quality.\n",
    "- Visualizations: Elbow plot, silhouette plot, or any other visual representation of the clusters."
   ]
  }
 ],
 "metadata": {
  "kernelspec": {
   "display_name": "Python 3 (ipykernel)",
   "language": "python",
   "name": "python3"
  },
  "language_info": {
   "codemirror_mode": {
    "name": "ipython",
    "version": 3
   },
   "file_extension": ".py",
   "mimetype": "text/x-python",
   "name": "python",
   "nbconvert_exporter": "python",
   "pygments_lexer": "ipython3",
   "version": "3.12.7"
  }
 },
 "nbformat": 4,
 "nbformat_minor": 5
}
