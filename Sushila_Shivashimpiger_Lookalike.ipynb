{
 "cells": [
  {
   "cell_type": "markdown",
   "id": "cd4e82ca-bf30-4fbf-99e1-ac5fa7da32e8",
   "metadata": {},
   "source": [
    "## **Task 2: Lookalike Model**"
   ]
  },
  {
   "cell_type": "markdown",
   "id": "ed0e795e-f382-4a1f-ac53-0a76d0351682",
   "metadata": {},
   "source": [
    "### Data Preparation"
   ]
  },
  {
   "cell_type": "code",
   "execution_count": 3,
   "id": "955ec7dd-3c09-45cb-9c01-a645b2f28a42",
   "metadata": {},
   "outputs": [],
   "source": [
    "import pandas as pd\n",
    "\n",
    "# Load datasets\n",
    "customers_df = pd.read_csv(r\"C:\\Users\\Sushila S\\Zeotap_DataScience_Assignment\\Datasets\\Customers.csv\")\n",
    "products_df = pd.read_csv(r\"C:\\Users\\Sushila S\\Zeotap_DataScience_Assignment\\Datasets\\Products.csv\")\n",
    "transactions_df = pd.read_csv(r\"C:\\Users\\Sushila S\\Zeotap_DataScience_Assignment\\Datasets\\Transactions.csv\")\n"
   ]
  },
  {
   "cell_type": "markdown",
   "id": "d46afa9d-b0a5-4f11-9e89-86d725f4e364",
   "metadata": {},
   "source": [
    "##### Merge the Datasets"
   ]
  },
  {
   "cell_type": "code",
   "execution_count": 4,
   "id": "511b765b-7022-4e10-aa49-1c50544eb6c9",
   "metadata": {},
   "outputs": [],
   "source": [
    "\n",
    "# Merge transactions with customers on CustomerID\n",
    "transactions_with_customers = pd.merge(transactions_df, customers_df, on='CustomerID', how='left')\n",
    "\n",
    "# Merge the above result with products on ProductID\n",
    "full_data = pd.merge(transactions_with_customers, products_df, on='ProductID', how='left')\n"
   ]
  },
  {
   "cell_type": "markdown",
   "id": "378b8064-ba3e-4c13-8c2a-e6a05dc2a639",
   "metadata": {},
   "source": [
    "## Feature Engineering:\n",
    "\n",
    "- Total Value of Transactions per Customer\n",
    "- Product Categories Purchased by Customer\n",
    "- Frequency of Purchases\n",
    "- Average Purchase Value"
   ]
  },
  {
   "cell_type": "code",
   "execution_count": 5,
   "id": "4117ec14-7353-4322-985a-b16dd4fc8484",
   "metadata": {},
   "outputs": [],
   "source": [
    "# Total value per customer\n",
    "customer_total_value = full_data.groupby('CustomerID')['TotalValue'].sum()\n",
    "\n",
    "# Frequency of transactions per customer\n",
    "customer_frequency = full_data.groupby('CustomerID')['TransactionID'].count()\n",
    "\n",
    "# Average purchase value\n",
    "customer_avg_purchase = full_data.groupby('CustomerID')['TotalValue'].mean()\n",
    "\n",
    "# Product categories bought per customer (this could be aggregated as a list)\n",
    "customer_categories = full_data.groupby('CustomerID')['Category'].unique()\n"
   ]
  },
  {
   "cell_type": "markdown",
   "id": "623749f1-a29d-44bf-bcf4-44ec979bd089",
   "metadata": {},
   "source": [
    "##### Merge Features"
   ]
  },
  {
   "cell_type": "code",
   "execution_count": 6,
   "id": "e0611dc9-6bea-443d-b126-fdc6d63b68b8",
   "metadata": {},
   "outputs": [],
   "source": [
    "customer_features = pd.DataFrame({\n",
    "    'TotalValue': customer_total_value,\n",
    "    'TransactionFrequency': customer_frequency,\n",
    "    'AvgPurchaseValue': customer_avg_purchase,\n",
    "    'ProductCategories': customer_categories\n",
    "})\n",
    "\n",
    "# Reset index so that 'CustomerID' is a column\n",
    "customer_features.reset_index(inplace=True)\n"
   ]
  },
  {
   "cell_type": "markdown",
   "id": "b88f4e68-41c2-494b-af18-0d0e0098a13e",
   "metadata": {},
   "source": [
    "## Similarity Calculation\n",
    "\n",
    "#### Transform Product Categories to Numerical Features"
   ]
  },
  {
   "cell_type": "code",
   "execution_count": 7,
   "id": "eebfae85-5df6-4a9d-beb6-f3d9ffd2c7f1",
   "metadata": {},
   "outputs": [],
   "source": [
    "from sklearn.preprocessing import MultiLabelBinarizer\n",
    "\n",
    "# One-Hot Encoding of Product Categories\n",
    "mlb = MultiLabelBinarizer()\n",
    "categories_encoded = mlb.fit_transform(customer_features['ProductCategories'])\n",
    "\n",
    "# Create a DataFrame from the encoded categories\n",
    "categories_df = pd.DataFrame(categories_encoded, columns=mlb.classes_)\n",
    "\n",
    "# Merge back with the customer features\n",
    "customer_features = pd.concat([customer_features, categories_df], axis=1)\n"
   ]
  },
  {
   "cell_type": "markdown",
   "id": "ec26dfde-56ce-4edb-b499-6e86c492ed28",
   "metadata": {},
   "source": [
    "#####  Similarity Calculation Using Euclidean Distance or Cosine Similarity"
   ]
  },
  {
   "cell_type": "markdown",
   "id": "aa585c4e-e267-4539-8428-ae4641a50d44",
   "metadata": {},
   "source": [
    "Cosine Similarity is widely used for calculating similarity between customer profiles"
   ]
  },
  {
   "cell_type": "code",
   "execution_count": 8,
   "id": "2371a399-337f-4f43-8b24-e0ad9e334b35",
   "metadata": {},
   "outputs": [],
   "source": [
    "from sklearn.metrics.pairwise import cosine_similarity\n",
    "\n",
    "# Extract relevant features for similarity calculation (ignore CustomerID)\n",
    "features_for_similarity = customer_features.drop(['CustomerID', 'ProductCategories'], axis=1)\n",
    "\n",
    "# Calculate similarity matrix using cosine similarity\n",
    "similarity_matrix = cosine_similarity(features_for_similarity)\n"
   ]
  },
  {
   "cell_type": "markdown",
   "id": "aa2746b0-7979-4b04-aef1-abc66687e63d",
   "metadata": {},
   "source": [
    "## Model Development\n",
    "\n",
    "Create a Function to Get Top 3 Similar Customers:"
   ]
  },
  {
   "cell_type": "code",
   "execution_count": 9,
   "id": "1718eb9b-a08d-44a4-841e-ca0c91712913",
   "metadata": {},
   "outputs": [],
   "source": [
    "def get_top_3_lookalikes(customer_id, similarity_matrix, customer_ids):\n",
    "    # Get the index of the customer_id in the DataFrame\n",
    "    customer_index = customer_ids.index(customer_id)\n",
    "    \n",
    "    # Get the similarity scores for the given customer\n",
    "    similarity_scores = similarity_matrix[customer_index]\n",
    "    \n",
    "    # Sort the scores in descending order and get top 3 similar customers (excluding self)\n",
    "    sorted_indices = similarity_scores.argsort()[::-1][1:4]\n",
    "    \n",
    "    top_3_customers = [(customer_ids[i], similarity_scores[i]) for i in sorted_indices]\n",
    "    \n",
    "    return top_3_customers\n"
   ]
  },
  {
   "cell_type": "markdown",
   "id": "56b95adc-9f83-48a1-8ae2-bf72fac14183",
   "metadata": {},
   "source": [
    "##### Compute Top 3 Lookalikes for Customers C0001 to C0020"
   ]
  },
  {
   "cell_type": "code",
   "execution_count": 10,
   "id": "bb34b626-b602-44ad-91fa-4b05cf91d62d",
   "metadata": {},
   "outputs": [],
   "source": [
    "lookalike_recommendations = []\n",
    "\n",
    "# Extract the list of CustomerIDs\n",
    "customer_ids = customer_features['CustomerID'].tolist()\n",
    "\n",
    "# Loop through customers C0001 to C0020 and get top 3 lookalikes\n",
    "for customer_id in customer_ids[:20]:\n",
    "    top_3 = get_top_3_lookalikes(customer_id, similarity_matrix, customer_ids)\n",
    "    lookalike_recommendations.append([customer_id, top_3])\n",
    "\n",
    "# Convert the recommendations to a DataFrame\n",
    "lookalike_df = pd.DataFrame(lookalike_recommendations, columns=['CustomerID', 'Top_3_Lookalikes'])\n",
    "\n",
    "# Save to CSV\n",
    "lookalike_df.to_csv(\"Sushila_Shivashimpiger_Lookalike.csv\", index=False)\n"
   ]
  },
  {
   "cell_type": "markdown",
   "id": "483ab88d-4fe5-4546-a39a-f3c2040d96b7",
   "metadata": {},
   "source": [
    "## Deliverables"
   ]
  },
  {
   "cell_type": "markdown",
   "id": "7d6497f2-d657-4ea5-a67a-d7b1bd321456",
   "metadata": {},
   "source": [
    "#### Jupyter Notebook:\n",
    "\n",
    "File Name: Sushila_Shivashimpiger_Lookalike.ipynb\n",
    "### A.Data Preparation Section:\n",
    "##### Goal: Merge the datasets to form a single unified dataset.\n",
    "Steps:\n",
    "- Load the datasets: Load Customers.csv, Products.csv, and Transactions.csv into pandas DataFrames.\n",
    " Merge the datasets:\n",
    "- Merge Transactions.csv with Customers.csv on CustomerID to get customer details along with their transactions.\n",
    "- Then merge this result with Products.csv on ProductID to get product details along with customer transactions.\n",
    "- Display the merged data and confirm it’s correctly combined.\n",
    "### B.Feature Engineering Section\n",
    "##### Goal: Create new features that help in determining the similarity between customers.\n",
    "Steps:\n",
    "##### Create features like:\n",
    "- Total Transaction Value per customer: Sum of TotalValue from transactions.\n",
    "- Transaction Frequency: Number of transactions per customer.\n",
    "- Average Purchase Value: Average of TotalValue for each customer.\n",
    "- Product Categories: Unique product categories each customer has purchased.\n",
    "\n",
    "### C. Similarity Calculation Section:\n",
    "##### Goal: Calculate similarity scores between customers based on their features.\n",
    "Steps:\n",
    "- Use cosine similarity (or Euclidean distance) to calculate similarity between customers based on their features.\n",
    "- Normalize categorical features like product categories (one-hot encoding, for example).\n",
    "### D. Function to Get Top 3 Lookalikes:\n",
    "#### Goal: For each customer, recommend the top 3 similar customers based on the similarity matrix.\n",
    "Steps:\n",
    "- Implement a function that takes a customer’s ID and returns their top 3 most similar customers based on the cosine similarity scores.\n",
    "### E. Output of Recommendations Section:\n",
    "#### Goal: Generate recommendations for customers C0001 to C0020 and save them in a CSV file.\n",
    "Steps:\n",
    "- For each customer (from C0001 to C0020), calculate their top 3 lookalikes.\n",
    "- Store the results in a CSV file with the format: CustomerID, Lookalike_1, Similarity_Score_1, Lookalike_2, Similarity_Score_2, Lookalike_3, Similarity_Score_3.\n",
    "\n",
    "## 2. CSV Output: Sushila_Shivashimpiger_Lookalike.csv\n",
    "##### Contents:\n",
    "- CustomerID: The ID of the customer for whom you’re generating lookalikes.\n",
    "- Lookalike_1, Lookalike_2, Lookalike_3: The IDs of the top 3 most similar customers.\n",
    "- Similarity_Score_1, Similarity_Score_2, Similarity_Score_3: The cosine similarity scores for each of the lookalikes."
   ]
  },
  {
   "cell_type": "code",
   "execution_count": null,
   "id": "abca3600-1f29-4b97-8a66-6fde1738be36",
   "metadata": {},
   "outputs": [],
   "source": []
  }
 ],
 "metadata": {
  "kernelspec": {
   "display_name": "Python 3 (ipykernel)",
   "language": "python",
   "name": "python3"
  },
  "language_info": {
   "codemirror_mode": {
    "name": "ipython",
    "version": 3
   },
   "file_extension": ".py",
   "mimetype": "text/x-python",
   "name": "python",
   "nbconvert_exporter": "python",
   "pygments_lexer": "ipython3",
   "version": "3.12.7"
  }
 },
 "nbformat": 4,
 "nbformat_minor": 5
}
