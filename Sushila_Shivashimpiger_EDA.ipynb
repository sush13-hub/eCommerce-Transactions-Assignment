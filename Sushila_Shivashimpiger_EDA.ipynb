{
 "cells": [
  {
   "cell_type": "markdown",
   "id": "3d88caf7-7c91-4ce9-af78-99f881bc65fe",
   "metadata": {},
   "source": [
    "# **Zeotap Data Science Assignment**\n",
    "## **Task 1: Exploratory Data Analysis (EDA) and Business Insights**\n",
    "### **Dataset: eCommerce Transactions**\n"
   ]
  },
  {
   "cell_type": "code",
   "execution_count": 21,
   "id": "93791cd7-167d-4315-bb8d-a25d7549c681",
   "metadata": {},
   "outputs": [
    {
     "name": "stdout",
     "output_type": "stream",
     "text": [
      "  CustomerID        CustomerName         Region  SignupDate\n",
      "0      C0001    Lawrence Carroll  South America  2022-07-10\n",
      "1      C0002      Elizabeth Lutz           Asia  2022-02-13\n",
      "2      C0003      Michael Rivera  South America  2024-03-07\n",
      "3      C0004  Kathleen Rodriguez  South America  2022-10-09\n",
      "4      C0005         Laura Weber           Asia  2022-08-15\n"
     ]
    }
   ],
   "source": [
    "# Import libraries\n",
    "import pandas as pd\n",
    "import numpy as np\n",
    "import matplotlib.pyplot as plt\n",
    "import seaborn as sns\n",
    "\n",
    "# Load datasets\n",
    "customers = pd.read_csv(r\"C:\\Users\\Sushila S\\Zeotap_DataScience_Assignment\\Datasets\\Customers.csv\")\n",
    "\n",
    "# Check the first few rows of each dataset\n",
    "print(customers.head())\n"
   ]
  },
  {
   "cell_type": "code",
   "execution_count": 22,
   "id": "49e23a73-4706-4f9d-a94a-b4fef6b1849d",
   "metadata": {},
   "outputs": [
    {
     "name": "stdout",
     "output_type": "stream",
     "text": [
      "  ProductID              ProductName     Category   Price\n",
      "0      P001     ActiveWear Biography        Books  169.30\n",
      "1      P002    ActiveWear Smartwatch  Electronics  346.30\n",
      "2      P003  ComfortLiving Biography        Books   44.12\n",
      "3      P004            BookWorld Rug   Home Decor   95.69\n",
      "4      P005          TechPro T-Shirt     Clothing  429.31\n"
     ]
    }
   ],
   "source": [
    "# Load dataset\n",
    "products  = pd.read_csv(r\"C:\\Users\\Sushila S\\Zeotap_DataScience_Assignment\\Datasets\\Products.csv\")\n",
    "\n",
    "# Check the first few rows of each dataset\n",
    "print(products.head())\n"
   ]
  },
  {
   "cell_type": "code",
   "execution_count": 23,
   "id": "0f57151d-a87b-4e12-935f-2b3b12da8f55",
   "metadata": {},
   "outputs": [
    {
     "name": "stdout",
     "output_type": "stream",
     "text": [
      "  TransactionID CustomerID ProductID      TransactionDate  Quantity  \\\n",
      "0        T00001      C0199      P067  2024-08-25 12:38:23         1   \n",
      "1        T00112      C0146      P067  2024-05-27 22:23:54         1   \n",
      "2        T00166      C0127      P067  2024-04-25 07:38:55         1   \n",
      "3        T00272      C0087      P067  2024-03-26 22:55:37         2   \n",
      "4        T00363      C0070      P067  2024-03-21 15:10:10         3   \n",
      "\n",
      "   TotalValue   Price  \n",
      "0      300.68  300.68  \n",
      "1      300.68  300.68  \n",
      "2      300.68  300.68  \n",
      "3      601.36  300.68  \n",
      "4      902.04  300.68  \n"
     ]
    }
   ],
   "source": [
    "# Load dataset\n",
    "transactions  = pd.read_csv(r\"C:\\Users\\Sushila S\\Zeotap_DataScience_Assignment\\Datasets\\Transactions.csv\")\n",
    "\n",
    "# Check the first few rows of each dataset\n",
    "print(transactions.head())\n"
   ]
  },
  {
   "cell_type": "code",
   "execution_count": 24,
   "id": "1ce2b532-a406-4c36-ba64-d2b961ac6f4b",
   "metadata": {},
   "outputs": [
    {
     "name": "stdout",
     "output_type": "stream",
     "text": [
      "<class 'pandas.core.frame.DataFrame'>\n",
      "RangeIndex: 200 entries, 0 to 199\n",
      "Data columns (total 4 columns):\n",
      " #   Column        Non-Null Count  Dtype \n",
      "---  ------        --------------  ----- \n",
      " 0   CustomerID    200 non-null    object\n",
      " 1   CustomerName  200 non-null    object\n",
      " 2   Region        200 non-null    object\n",
      " 3   SignupDate    200 non-null    object\n",
      "dtypes: object(4)\n",
      "memory usage: 6.4+ KB\n",
      "None\n"
     ]
    }
   ],
   "source": [
    "# Check basic information\n",
    "print(customers.info())"
   ]
  },
  {
   "cell_type": "code",
   "execution_count": 25,
   "id": "f8aa89cc-7355-4962-a8fa-66fb75bf3839",
   "metadata": {},
   "outputs": [
    {
     "name": "stdout",
     "output_type": "stream",
     "text": [
      "<class 'pandas.core.frame.DataFrame'>\n",
      "RangeIndex: 100 entries, 0 to 99\n",
      "Data columns (total 4 columns):\n",
      " #   Column       Non-Null Count  Dtype  \n",
      "---  ------       --------------  -----  \n",
      " 0   ProductID    100 non-null    object \n",
      " 1   ProductName  100 non-null    object \n",
      " 2   Category     100 non-null    object \n",
      " 3   Price        100 non-null    float64\n",
      "dtypes: float64(1), object(3)\n",
      "memory usage: 3.3+ KB\n",
      "None\n"
     ]
    }
   ],
   "source": [
    "print(products.info())"
   ]
  },
  {
   "cell_type": "code",
   "execution_count": 26,
   "id": "40ac1634-7bd7-4943-9e27-335db7235fdb",
   "metadata": {},
   "outputs": [
    {
     "name": "stdout",
     "output_type": "stream",
     "text": [
      "<class 'pandas.core.frame.DataFrame'>\n",
      "RangeIndex: 1000 entries, 0 to 999\n",
      "Data columns (total 7 columns):\n",
      " #   Column           Non-Null Count  Dtype  \n",
      "---  ------           --------------  -----  \n",
      " 0   TransactionID    1000 non-null   object \n",
      " 1   CustomerID       1000 non-null   object \n",
      " 2   ProductID        1000 non-null   object \n",
      " 3   TransactionDate  1000 non-null   object \n",
      " 4   Quantity         1000 non-null   int64  \n",
      " 5   TotalValue       1000 non-null   float64\n",
      " 6   Price            1000 non-null   float64\n",
      "dtypes: float64(2), int64(1), object(4)\n",
      "memory usage: 54.8+ KB\n",
      "None\n"
     ]
    }
   ],
   "source": [
    "print(transactions.info())"
   ]
  },
  {
   "cell_type": "code",
   "execution_count": 27,
   "id": "1933be2e-a769-4286-ab94-d99bbee1e56b",
   "metadata": {},
   "outputs": [
    {
     "name": "stdout",
     "output_type": "stream",
     "text": [
      "CustomerID      0\n",
      "CustomerName    0\n",
      "Region          0\n",
      "SignupDate      0\n",
      "dtype: int64\n"
     ]
    }
   ],
   "source": [
    "# Check for missing values\n",
    "print(customers.isnull().sum())"
   ]
  },
  {
   "cell_type": "code",
   "execution_count": 28,
   "id": "6c35e5d4-2f32-4050-a7f0-4676b41ad655",
   "metadata": {},
   "outputs": [
    {
     "name": "stdout",
     "output_type": "stream",
     "text": [
      "ProductID      0\n",
      "ProductName    0\n",
      "Category       0\n",
      "Price          0\n",
      "dtype: int64\n"
     ]
    }
   ],
   "source": [
    "print(products.isnull().sum())"
   ]
  },
  {
   "cell_type": "code",
   "execution_count": 29,
   "id": "ab44911c-3ff3-4ffb-b539-2d9763d3689b",
   "metadata": {},
   "outputs": [
    {
     "name": "stdout",
     "output_type": "stream",
     "text": [
      "TransactionID      0\n",
      "CustomerID         0\n",
      "ProductID          0\n",
      "TransactionDate    0\n",
      "Quantity           0\n",
      "TotalValue         0\n",
      "Price              0\n",
      "dtype: int64\n"
     ]
    }
   ],
   "source": [
    "print(transactions.isnull().sum())"
   ]
  },
  {
   "cell_type": "code",
   "execution_count": 35,
   "id": "9749741a-92be-4967-bd6b-bf35efbeb676",
   "metadata": {},
   "outputs": [
    {
     "name": "stdout",
     "output_type": "stream",
     "text": [
      "            Price\n",
      "count  100.000000\n",
      "mean   267.551700\n",
      "std    143.219383\n",
      "min     16.080000\n",
      "25%    147.767500\n",
      "50%    292.875000\n",
      "75%    397.090000\n",
      "max    497.760000\n"
     ]
    }
   ],
   "source": [
    "# Summary statistics for numerical columns\n",
    "print(products.describe())"
   ]
  },
  {
   "cell_type": "code",
   "execution_count": 34,
   "id": "8e22a0de-7121-470c-879b-160d221e0945",
   "metadata": {},
   "outputs": [
    {
     "name": "stdout",
     "output_type": "stream",
     "text": [
      "          Quantity   TotalValue       Price\n",
      "count  1000.000000  1000.000000  1000.00000\n",
      "mean      2.537000   689.995560   272.55407\n",
      "std       1.117981   493.144478   140.73639\n",
      "min       1.000000    16.080000    16.08000\n",
      "25%       2.000000   295.295000   147.95000\n",
      "50%       3.000000   588.880000   299.93000\n",
      "75%       4.000000  1011.660000   404.40000\n",
      "max       4.000000  1991.040000   497.76000\n"
     ]
    }
   ],
   "source": [
    "print(transactions.describe())"
   ]
  },
  {
   "cell_type": "code",
   "execution_count": 37,
   "id": "b7f8a1e9-f6cf-4964-b2f7-442afec7a2be",
   "metadata": {},
   "outputs": [
    {
     "name": "stdout",
     "output_type": "stream",
     "text": [
      "Category\n",
      "Books          26\n",
      "Electronics    26\n",
      "Clothing       25\n",
      "Home Decor     23\n",
      "Name: count, dtype: int64\n"
     ]
    }
   ],
   "source": [
    "# product category\n",
    "print(products['Category'].value_counts())\n"
   ]
  },
  {
   "cell_type": "code",
   "execution_count": 42,
   "id": "70f57295-97c6-44f8-9da4-ec55a2ac5e18",
   "metadata": {},
   "outputs": [
    {
     "name": "stdout",
     "output_type": "stream",
     "text": [
      "  TransactionID CustomerID ProductID      TransactionDate  Quantity  \\\n",
      "0        T00001      C0199      P067  2024-08-25 12:38:23         1   \n",
      "1        T00112      C0146      P067  2024-05-27 22:23:54         1   \n",
      "2        T00166      C0127      P067  2024-04-25 07:38:55         1   \n",
      "3        T00272      C0087      P067  2024-03-26 22:55:37         2   \n",
      "4        T00363      C0070      P067  2024-03-21 15:10:10         3   \n",
      "\n",
      "   TotalValue  Price_x     CustomerName         Region  SignupDate  \\\n",
      "0      300.68   300.68   Andrea Jenkins         Europe  2022-12-03   \n",
      "1      300.68   300.68  Brittany Harvey           Asia  2024-09-04   \n",
      "2      300.68   300.68  Kathryn Stevens         Europe  2024-04-04   \n",
      "3      601.36   300.68  Travis Campbell  South America  2024-04-11   \n",
      "4      902.04   300.68    Timothy Perez         Europe  2022-03-15   \n",
      "\n",
      "                       ProductName     Category  Price_y  \n",
      "0  ComfortLiving Bluetooth Speaker  Electronics   300.68  \n",
      "1  ComfortLiving Bluetooth Speaker  Electronics   300.68  \n",
      "2  ComfortLiving Bluetooth Speaker  Electronics   300.68  \n",
      "3  ComfortLiving Bluetooth Speaker  Electronics   300.68  \n",
      "4  ComfortLiving Bluetooth Speaker  Electronics   300.68  \n"
     ]
    }
   ],
   "source": [
    "# Merge transactions with customers on CustomerID\n",
    "merged_data = transactions.merge(customers, on='CustomerID')\n",
    "\n",
    "# Merge the result with products on ProductID\n",
    "merged_data = merged_data.merge(products, on='ProductID')\n",
    "\n",
    "# Preview the merged dataset\n",
    "print(merged_data.head())  # Display the first 5 rows of the merged data\n"
   ]
  },
  {
   "cell_type": "code",
   "execution_count": 45,
   "id": "253106ab-e21f-4e0b-9f3f-791d58590a3c",
   "metadata": {},
   "outputs": [
    {
     "name": "stdout",
     "output_type": "stream",
     "text": [
      "<class 'pandas.core.frame.DataFrame'>\n",
      "RangeIndex: 1000 entries, 0 to 999\n",
      "Data columns (total 13 columns):\n",
      " #   Column           Non-Null Count  Dtype  \n",
      "---  ------           --------------  -----  \n",
      " 0   TransactionID    1000 non-null   object \n",
      " 1   CustomerID       1000 non-null   object \n",
      " 2   ProductID        1000 non-null   object \n",
      " 3   TransactionDate  1000 non-null   object \n",
      " 4   Quantity         1000 non-null   int64  \n",
      " 5   TotalValue       1000 non-null   float64\n",
      " 6   Price_x          1000 non-null   float64\n",
      " 7   CustomerName     1000 non-null   object \n",
      " 8   Region           1000 non-null   object \n",
      " 9   SignupDate       1000 non-null   object \n",
      " 10  ProductName      1000 non-null   object \n",
      " 11  Category         1000 non-null   object \n",
      " 12  Price_y          1000 non-null   float64\n",
      "dtypes: float64(3), int64(1), object(9)\n",
      "memory usage: 101.7+ KB\n",
      "None\n",
      "          Quantity   TotalValue     Price_x     Price_y\n",
      "count  1000.000000  1000.000000  1000.00000  1000.00000\n",
      "mean      2.537000   689.995560   272.55407   272.55407\n",
      "std       1.117981   493.144478   140.73639   140.73639\n",
      "min       1.000000    16.080000    16.08000    16.08000\n",
      "25%       2.000000   295.295000   147.95000   147.95000\n",
      "50%       3.000000   588.880000   299.93000   299.93000\n",
      "75%       4.000000  1011.660000   404.40000   404.40000\n",
      "max       4.000000  1991.040000   497.76000   497.76000\n",
      "TransactionID      0\n",
      "CustomerID         0\n",
      "ProductID          0\n",
      "TransactionDate    0\n",
      "Quantity           0\n",
      "TotalValue         0\n",
      "Price_x            0\n",
      "CustomerName       0\n",
      "Region             0\n",
      "SignupDate         0\n",
      "ProductName        0\n",
      "Category           0\n",
      "Price_y            0\n",
      "dtype: int64\n"
     ]
    }
   ],
   "source": [
    "## Inspect the Merged Dataset\n",
    "\n",
    "print(merged_data.info())  # Check column types and missing values\n",
    "print(merged_data.describe())  # Statistical summary for numeric columns\n",
    "print(merged_data.isnull().sum())  # Check for missing values in each column\n"
   ]
  },
  {
   "cell_type": "code",
   "execution_count": 47,
   "id": "c28c6be9-6acf-4ec2-8dd5-830b954198a1",
   "metadata": {},
   "outputs": [
    {
     "name": "stdout",
     "output_type": "stream",
     "text": [
      "Region\n",
      "South America    304\n",
      "North America    244\n",
      "Europe           234\n",
      "Asia             218\n",
      "Name: count, dtype: int64\n",
      "Category\n",
      "Books          270\n",
      "Electronics    254\n",
      "Home Decor     248\n",
      "Clothing       228\n",
      "Name: count, dtype: int64\n"
     ]
    }
   ],
   "source": [
    "# Preview \n",
    "print(merged_data['Region'].value_counts())  # Number of customers in each region\n",
    "print(merged_data['Category'].value_counts())  # Number of products in each category\n"
   ]
  },
  {
   "cell_type": "code",
   "execution_count": 48,
   "id": "7f9156f7-251a-4414-9874-da3379624e7b",
   "metadata": {},
   "outputs": [
    {
     "name": "stdout",
     "output_type": "stream",
     "text": [
      "ProductName\n",
      "ActiveWear Smartwatch    100\n",
      "SoundWave Headphones      97\n",
      "HomeSense Desk Lamp       81\n",
      "ActiveWear Rug            79\n",
      "SoundWave Cookbook        78\n",
      "Name: Quantity, dtype: int64\n"
     ]
    }
   ],
   "source": [
    "## Analyze key metrics\n",
    "\n",
    "#Top-selling products\n",
    "print(merged_data.groupby('ProductName')['Quantity'].sum().sort_values(ascending=False).head(5))\n"
   ]
  },
  {
   "cell_type": "code",
   "execution_count": 49,
   "id": "d331e0b4-c05e-40c3-9325-d234e4bb521e",
   "metadata": {},
   "outputs": [
    {
     "name": "stdout",
     "output_type": "stream",
     "text": [
      "CustomerName\n",
      "Paul Parsons     10673.87\n",
      "Bruce Rhodes      8040.39\n",
      "Gerald Hines      7663.70\n",
      "William Adams     7634.45\n",
      "Aimee Taylor      7572.91\n",
      "Name: TotalValue, dtype: float64\n"
     ]
    }
   ],
   "source": [
    "#most active customers\n",
    "\n",
    "print(merged_data.groupby('CustomerName')['TotalValue'].sum().sort_values(ascending=False).head(5))\n"
   ]
  },
  {
   "cell_type": "code",
   "execution_count": 51,
   "id": "2452ade4-1fba-4e53-ae84-81524e60e3bf",
   "metadata": {},
   "outputs": [
    {
     "name": "stdout",
     "output_type": "stream",
     "text": [
      "Region\n",
      "South America    219352.56\n",
      "Europe           166254.63\n",
      "North America    152313.40\n",
      "Asia             152074.97\n",
      "Name: TotalValue, dtype: float64\n"
     ]
    }
   ],
   "source": [
    "#Regional sales distribution\n",
    "print(merged_data.groupby('Region')['TotalValue'].sum().sort_values(ascending=False))\n"
   ]
  },
  {
   "cell_type": "markdown",
   "id": "f5445812-59c2-472b-80ad-8ac9da204959",
   "metadata": {},
   "source": [
    "## Visualize the Data\n",
    "\n",
    "####  Sales by Product Category"
   ]
  },
  {
   "cell_type": "code",
   "execution_count": 52,
   "id": "5e56d67e-5bd7-43cf-8b8b-386569c3267c",
   "metadata": {},
   "outputs": [
    {
     "data": {
      "image/png": "[encoded data removed]",
      "text/plain": [
       "<Figure size 640x480 with 1 Axes>"
      ]
     },
     "metadata": {},
     "output_type": "display_data"
    }
   ],
   "source": [
    "import seaborn as sns\n",
    "import matplotlib.pyplot as plt\n",
    "\n",
    "category_sales = merged_data.groupby('Category')['TotalValue'].sum().reset_index()\n",
    "sns.barplot(x='Category', y='TotalValue', data=category_sales)\n",
    "plt.title('Sales by Product Category')\n",
    "plt.show()\n"
   ]
  },
  {
   "cell_type": "markdown",
   "id": "c62e64a5-40e0-454a-a380-22d7bfc9ab53",
   "metadata": {},
   "source": [
    "#### Sales Trend Over Time"
   ]
  },
  {
   "cell_type": "code",
   "execution_count": 53,
   "id": "4b6802d7-6564-4293-bff5-2c65e52287e6",
   "metadata": {},
   "outputs": [
    {
     "data": {
      "image/png": "[encoded data removed]",
      "text/plain": [
       "<Figure size 640x480 with 1 Axes>"
      ]
     },
     "metadata": {},
     "output_type": "display_data"
    }
   ],
   "source": [
    "merged_data['TransactionDate'] = pd.to_datetime(merged_data['TransactionDate'])\n",
    "daily_sales = merged_data.groupby('TransactionDate')['TotalValue'].sum().reset_index()\n",
    "\n",
    "plt.plot(daily_sales['TransactionDate'], daily_sales['TotalValue'])\n",
    "plt.title('Sales Trend Over Time')\n",
    "plt.xlabel('Date')\n",
    "plt.ylabel('Total Sales')\n",
    "plt.show()\n"
   ]
  },
  {
   "cell_type": "code",
   "execution_count": 54,
   "id": "faa92c08-4121-426e-9a9a-eab9db0d15a5",
   "metadata": {},
   "outputs": [
    {
     "data": {
      "text/plain": [
       "<Figure size 640x480 with 0 Axes>"
      ]
     },
     "metadata": {},
     "output_type": "display_data"
    }
   ],
   "source": [
    "plt.savefig('sales_by_category.png')\n"
   ]
  },
  {
   "cell_type": "markdown",
   "id": "fbcfa6c9-af56-4f66-8804-ab178fb8e7dc",
   "metadata": {},
   "source": [
    "# Business Insights\n",
    "\n",
    "## Insight 1: Sales by Product Category\n",
    "**Observation:**  \n",
    "From the bar chart, we see that specific categories (e.g., \"Electronics\" or \"Clothing\") contribute significantly more to total sales compared to others.\n",
    "\n",
    "**Significance:**  \n",
    "High-performing categories indicate where most of the revenue is concentrated. Low-performing categories may have untapped potential or need optimization.\n",
    "\n",
    "**Recommendation:**  \n",
    "- Focus marketing efforts on high-performing categories to maximize revenue.  \n",
    "- Investigate why low-performing categories are lagging—consider promotions, product variations, or better pricing strategies.\n",
    "---\n",
    "\n",
    "## Insight 2: Sales Trend Over Time\n",
    "**Observation:**  \n",
    "The line chart reveals a clear seasonality in sales, with spikes during specific periods (e.g., festive months like December) and dips during others.\n",
    "\n",
    "**Significance:**  \n",
    "Sales trends suggest that customer demand increases during certain periods, likely due to festivals or promotional campaigns.\n",
    "\n",
    "**Recommendation:**  \n",
    "- Plan targeted promotional campaigns leading up to peak sales periods.  \n",
    "- During slower months, introduce discounts or marketing initiatives to smooth out the sales curve and maintain customer engagement."
   ]
  },
  {
   "cell_type": "code",
   "execution_count": null,
   "id": "31a5e126-4683-4697-89d1-81b87c979639",
   "metadata": {},
   "outputs": [],
   "source": []
  }
 ],
 "metadata": {
  "kernelspec": {
   "display_name": "Python 3 (ipykernel)",
   "language": "python",
   "name": "python3"
  },
  "language_info": {
   "codemirror_mode": {
    "name": "ipython",
    "version": 3
   },
   "file_extension": ".py",
   "mimetype": "text/x-python",
   "name": "python",
   "nbconvert_exporter": "python",
   "pygments_lexer": "ipython3",
   "version": "3.12.7"
  }
 },
 "nbformat": 4,
 "nbformat_minor": 5
}
